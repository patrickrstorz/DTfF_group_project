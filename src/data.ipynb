{
 "cells": [
  {
   "cell_type": "code",
   "execution_count": 1,
   "metadata": {},
   "outputs": [],
   "source": [
    "import pandas as pd\n",
    "import matplotlib.pyplot as plt\n",
    "import matplotlib.dates as mdates\n",
    "from matplotlib.dates import DateFormatter"
   ]
  },
  {
   "cell_type": "code",
   "execution_count": null,
   "metadata": {},
   "outputs": [],
   "source": [
    "ea = pd.read_excel('~/Projects/uzh_business_cycles/pmis-indicator-review/data/pmi-eu-sep20.xlsx',sheet_name='EA')\n",
    "de = pd.read_excel('~/Projects/uzh_business_cycles/pmis-indicator-review/data/pmi-eu-sep20.xlsx',sheet_name='DE')\n",
    "fr = pd.read_excel('~/Projects/uzh_business_cycles/pmis-indicator-review/data/pmi-eu-sep20.xlsx',sheet_name='FR')"
   ]
  },
  {
   "cell_type": "code",
   "execution_count": null,
   "metadata": {},
   "outputs": [],
   "source": [
    "pd.set_option('max_columns', None)"
   ]
  },
  {
   "cell_type": "code",
   "execution_count": null,
   "metadata": {},
   "outputs": [],
   "source": [
    "ea.drop([0], inplace=True)"
   ]
  },
  {
   "cell_type": "code",
   "execution_count": null,
   "metadata": {},
   "outputs": [],
   "source": [
    "ea.set_index('Name', inplace=True)\n",
    "de.set_index('Name', inplace=True)\n",
    "fr.set_index('Name', inplace=True)"
   ]
  },
  {
   "cell_type": "code",
   "execution_count": null,
   "metadata": {},
   "outputs": [],
   "source": [
    "ea = ea.astype(float)"
   ]
  },
  {
   "cell_type": "code",
   "execution_count": null,
   "metadata": {},
   "outputs": [],
   "source": [
    "ea.info()"
   ]
  },
  {
   "cell_type": "code",
   "execution_count": null,
   "metadata": {},
   "outputs": [],
   "source": [
    "ea.tail(10)"
   ]
  },
  {
   "cell_type": "code",
   "execution_count": null,
   "metadata": {},
   "outputs": [],
   "source": [
    "ea_man = ea.iloc[:,0:13]\n",
    "ea_ser = ea.iloc[:,13:20]\n",
    "ea_comp = ea.iloc[:,20:29]\n",
    "\n",
    "ea_comp_output = ea.iloc[:,24]\n",
    "\n",
    "ea20_man = ea.iloc[276:,0]\n",
    "ea20_ser = ea.iloc[276:,13]\n",
    "ea20_comp_empl = ea.iloc[276:,21]"
   ]
  },
  {
   "cell_type": "markdown",
   "metadata": {},
   "source": [
    "## Plots "
   ]
  },
  {
   "cell_type": "code",
   "execution_count": null,
   "metadata": {
    "scrolled": true
   },
   "outputs": [],
   "source": [
    "fig, ax = plt.subplots(figsize=[7,7], dpi=120, nrows=2, ncols=1)\n",
    "\n",
    "ax[0].plot(ea_comp_output, lw=3)\n",
    "ax[0].set_title('Euro Area Composite Output PMI', fontweight='bold')\n",
    "ax[0].axhline(y=50, color='r', linestyle='--')\n",
    "ax[0].xaxis.set_major_formatter(DateFormatter(\"%Y\"))\n",
    "\n",
    "ax[1].plot(ea20_man, color='blue', label='Manufacturing PMI', lw=2.5)\n",
    "ax[1].plot(ea20_ser, color='green', label='Services Business Activity Index', lw=2.5)\n",
    "ax[1].plot(ea20_comp_empl, color='purple', label='Composite Employment PMI', lw=2.5)\n",
    "ax[1].legend()\n",
    "ax[1].set_title('Euro Area PMIs in 2020', fontweight='bold')\n",
    "ax[1].axhline(y=50, color='r', linestyle='--')\n",
    "ax[1].xaxis.set_major_formatter(DateFormatter(\"%b %y\"))\n",
    "\n",
    "plt.annotate('Source: Thomson Reuters. All values seasonally adjusted (adjustments not mine).', (0,0), (0,-25), fontsize=8, \n",
    "             xycoords='axes fraction', textcoords='offset points', va='top')\n",
    "\n",
    "plt.style.use('seaborn')\n",
    "fig.tight_layout()"
   ]
  },
  {
   "cell_type": "code",
   "execution_count": null,
   "metadata": {},
   "outputs": [],
   "source": [
    "# fig.savefig(\"pmis.png\")"
   ]
  },
  {
   "cell_type": "code",
   "execution_count": null,
   "metadata": {},
   "outputs": [],
   "source": [
    "euall = pd.concat([ea_comp_output[276:], ea20_man,ea20_ser, ea20_comp_empl], axis=1)"
   ]
  },
  {
   "cell_type": "code",
   "execution_count": null,
   "metadata": {},
   "outputs": [],
   "source": [
    "de.info()"
   ]
  },
  {
   "cell_type": "code",
   "execution_count": null,
   "metadata": {},
   "outputs": [],
   "source": [
    "pmide = de.iloc[277:,24]\n",
    "pmifr = fr.iloc[277:,24]\n",
    "final = pd.concat([euall, pmide, pmifr], axis=1)\n",
    "final"
   ]
  },
  {
   "cell_type": "code",
   "execution_count": null,
   "metadata": {},
   "outputs": [],
   "source": [
    "de.iloc[277:]"
   ]
  },
  {
   "cell_type": "code",
   "execution_count": null,
   "metadata": {},
   "outputs": [],
   "source": [
    "fr.iloc[277:]"
   ]
  },
  {
   "cell_type": "code",
   "execution_count": null,
   "metadata": {},
   "outputs": [],
   "source": [
    "ea.iloc[277:]"
   ]
  },
  {
   "cell_type": "code",
   "execution_count": null,
   "metadata": {},
   "outputs": [],
   "source": [
    "ea.describe()"
   ]
  },
  {
   "cell_type": "code",
   "execution_count": null,
   "metadata": {},
   "outputs": [],
   "source": [
    "ea.iloc[270:,[2,16,22]]"
   ]
  },
  {
   "cell_type": "code",
   "execution_count": null,
   "metadata": {},
   "outputs": [],
   "source": [
    "ea.iloc[267:]"
   ]
  },
  {
   "cell_type": "code",
   "execution_count": null,
   "metadata": {},
   "outputs": [],
   "source": [
    "ea.iloc[160:,24]"
   ]
  }
 ],
 "metadata": {
  "kernelspec": {
   "display_name": "Python 3",
   "language": "python",
   "name": "python3"
  },
  "language_info": {
   "codemirror_mode": {
    "name": "ipython",
    "version": 3
   },
   "file_extension": ".py",
   "mimetype": "text/x-python",
   "name": "python",
   "nbconvert_exporter": "python",
   "pygments_lexer": "ipython3",
   "version": "3.8.3"
  }
 },
 "nbformat": 4,
 "nbformat_minor": 4
}
