{
 "cells": [
  {
   "cell_type": "code",
   "execution_count": null,
   "metadata": {},
   "outputs": [],
   "source": [
    "import pandas as pd\n",
    "import numpy as np\n",
    "import matplotlib.pyplot as plt\n",
    "from datetime import datetime\n",
    "from pandas_datareader import data\n",
    "from pandas_datareader._utils import RemoteDataError\n",
    "\n",
    "asset = '^STOXX50E'\n",
    "name = 'EURO STOXX 50'\n",
    "START_DATE = '2007-03-30'\n",
    "END_DATE = str(datetime.now().strftime('%Y-%m-%d'))\n",
    "\n",
    "def get_stats(asset):\n",
    "    return {\n",
    "        'last': np.mean(asset.tail(1)),\n",
    "        'short mean': np.mean(asset.tail(50)),\n",
    "        'short rolling': asset.rolling(window=20).mean(),\n",
    "        'long rolling': asset.rolling(window=200).mean()\n",
    "    }\n",
    "\n",
    "def clean_data(asset, col):\n",
    "    weekdays = pd.date_range(start=START_DATE, end=END_DATE)\n",
    "    clean_data = asset[col].reindex(weekdays)\n",
    "    return clean_data.fillna(method=\"ffill\")\n",
    "\n",
    "def create_plot(asset, ticker):\n",
    "    stats = get_stats(asset)\n",
    "    plt.style.use('seaborn')\n",
    "    fig = plt.figure(figsize=(12,8),dpi=120)\n",
    "    plt.plot(stats['short rolling'],label='20 days rolling mean',lw=3)\n",
    "    plt.xlabel('Date')\n",
    "    plt.ylabel('Price')\n",
    "    plt.legend()\n",
    "    plt.title(name,weight='bold')\n",
    "    plt.tight_layout()\n",
    "    plt.show()\n",
    "\n",
    "def get_data(ticker):\n",
    "    try:\n",
    "        asset = data.DataReader(ticker,\n",
    "                                     'yahoo',\n",
    "                                     START_DATE,\n",
    "                                     END_DATE)\n",
    "        adj_close = clean_data(asset, 'Adj Close')\n",
    "        \n",
    "        create_plot(adj_close, ticker)\n",
    "    \n",
    "    except RemoteDataError:\n",
    "        print('No data fount for {t}'.format(t=ticker))\n",
    "\n",
    "get_data(asset)"
   ]
  }
 ],
 "metadata": {
  "kernelspec": {
   "display_name": "Python 3",
   "language": "python",
   "name": "python3"
  },
  "language_info": {
   "codemirror_mode": {
    "name": "ipython",
    "version": 3
   },
   "file_extension": ".py",
   "mimetype": "text/x-python",
   "name": "python",
   "nbconvert_exporter": "python",
   "pygments_lexer": "ipython3",
   "version": "3.8.5"
  }
 },
 "nbformat": 4,
 "nbformat_minor": 4
}
